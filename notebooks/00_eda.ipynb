{
 "cells": [
  {
   "cell_type": "markdown",
   "metadata": {},
   "source": [
    "# 00 EDA\n",
    "\n",
    "Quick EDA using SQLite DB."
   ]
  },
  {
   "cell_type": "code",
   "execution_count": 9,
   "id": "de5648a3",
   "metadata": {},
   "outputs": [
    {
     "name": "stdout",
     "output_type": "stream",
     "text": [
      "현재 작업 디렉토리: C:\\Users\\wheng\\proj\\ivd-lead-scoring\n",
      "build 폴더 존재 여부: True\n",
      "ivd.db 파일 존재 여부: True\n"
     ]
    }
   ],
   "source": [
    "import os\n",
    "os.chdir(r\"C:\\Users\\wheng\\proj\\ivd-lead-scoring\")\n",
    "print(\"현재 작업 디렉토리:\", os.getcwd())\n",
    "print(\"build 폴더 존재 여부:\", os.path.exists('build'))\n",
    "print(\"ivd.db 파일 존재 여부:\", os.path.exists('build/ivd.db'))"
   ]
  },
  {
   "cell_type": "code",
   "execution_count": 11,
   "metadata": {},
   "outputs": [
    {
     "name": "stdout",
     "output_type": "stream",
     "text": [
      "생성된 테이블들: ['ingest_log', 'accounts', 'contacts', 'products', 'install_base', 'opportunities', 'opportunity_line_items', 'bids', 'quotes', 'orders', 'shipments', 'interactions', 'web_events', 'service_tickets', 'campaigns', 'campaign_members', 'marketing_costs', 'bi_scores_daily', 'bi_opportunities', 'bi_orders']\n",
      "   account_id account_name account_type  bed_count  annual_test_volume  \\\n",
      "0           1       기관_001          검사실        260              167028   \n",
      "1           2       기관_002           의원         43              119159   \n",
      "2           3       기관_003          검사실         72              143375   \n",
      "3           4       기관_004           병원        270              117503   \n",
      "4           5       기관_005          검사실         41              102393   \n",
      "\n",
      "       city state_region country ownership_type  created_at  updated_at  \n",
      "0   Incheon     Gyeonggi   Korea             민영  2023-09-14  2025-09-09  \n",
      "1   Incheon        Busan   Korea             공공  2024-02-17  2025-09-09  \n",
      "2  Seongnam        Busan   Korea             민영  2024-11-21  2025-09-09  \n",
      "3     Suwon        Daegu   Korea             공공  2024-03-04  2025-09-09  \n",
      "4  Seongnam     Gyeonggi   Korea             민영  2023-10-13  2025-09-09  \n"
     ]
    }
   ],
   "source": [
    "import sqlite3\n",
    "con = sqlite3.connect('build/ivd.db')\n",
    "\n",
    "# 테이블 목록 확인\n",
    "tables = con.execute(\"SELECT name FROM sqlite_master WHERE type='table'\").fetchall()\n",
    "print(\"생성된 테이블들:\", [t[0] for t in tables])\n",
    "\n",
    "# accounts 테이블 데이터 확인\n",
    "df = pd.read_sql_query('SELECT * FROM accounts LIMIT 5', con)\n",
    "print(df)\n",
    "\n",
    "con.close()"
   ]
  },
  {
   "cell_type": "markdown",
   "id": "46f465d3",
   "metadata": {},
   "source": []
  }
 ],
 "metadata": {
  "kernelspec": {
   "display_name": "venv",
   "language": "python",
   "name": "python3"
  },
  "language_info": {
   "codemirror_mode": {
    "name": "ipython",
    "version": 3
   },
   "file_extension": ".py",
   "mimetype": "text/x-python",
   "name": "python",
   "nbconvert_exporter": "python",
   "pygments_lexer": "ipython3",
   "version": "3.13.7"
  }
 },
 "nbformat": 4,
 "nbformat_minor": 5
}
